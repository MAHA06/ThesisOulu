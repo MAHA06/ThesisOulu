{
  "nbformat": 4,
  "nbformat_minor": 0,
  "metadata": {
    "accelerator": "GPU",
    "colab": {
      "name": "Thesis.ipynb",
      "provenance": [],
      "include_colab_link": true
    },
    "kernelspec": {
      "display_name": "Python 3",
      "language": "python",
      "name": "python3"
    },
    "language_info": {
      "codemirror_mode": {
        "name": "ipython",
        "version": 3
      },
      "file_extension": ".py",
      "mimetype": "text/x-python",
      "name": "python",
      "nbconvert_exporter": "python",
      "pygments_lexer": "ipython3",
      "version": "3.7.10"
    },
    "widgets": {
      "application/vnd.jupyter.widget-state+json": {
        "710d40d4442d48dc842e1de2fb7052cf": {
          "model_module": "@jupyter-widgets/controls",
          "model_name": "HBoxModel",
          "state": {
            "_view_name": "HBoxView",
            "_dom_classes": [],
            "_model_name": "HBoxModel",
            "_view_module": "@jupyter-widgets/controls",
            "_model_module_version": "1.5.0",
            "_view_count": null,
            "_view_module_version": "1.5.0",
            "box_style": "",
            "layout": "IPY_MODEL_16737741f8514139843fc0ab5d75d3e2",
            "_model_module": "@jupyter-widgets/controls",
            "children": [
              "IPY_MODEL_17e3319371d04917821b20fd8c652457",
              "IPY_MODEL_7d084eb9f45840b38e75c1f9552f11ba"
            ]
          }
        },
        "16737741f8514139843fc0ab5d75d3e2": {
          "model_module": "@jupyter-widgets/base",
          "model_name": "LayoutModel",
          "state": {
            "_view_name": "LayoutView",
            "grid_template_rows": null,
            "right": null,
            "justify_content": null,
            "_view_module": "@jupyter-widgets/base",
            "overflow": null,
            "_model_module_version": "1.2.0",
            "_view_count": null,
            "flex_flow": null,
            "width": null,
            "min_width": null,
            "border": null,
            "align_items": null,
            "bottom": null,
            "_model_module": "@jupyter-widgets/base",
            "top": null,
            "grid_column": null,
            "overflow_y": null,
            "overflow_x": null,
            "grid_auto_flow": null,
            "grid_area": null,
            "grid_template_columns": null,
            "flex": null,
            "_model_name": "LayoutModel",
            "justify_items": null,
            "grid_row": null,
            "max_height": null,
            "align_content": null,
            "visibility": null,
            "align_self": null,
            "height": null,
            "min_height": null,
            "padding": null,
            "grid_auto_rows": null,
            "grid_gap": null,
            "max_width": null,
            "order": null,
            "_view_module_version": "1.2.0",
            "grid_template_areas": null,
            "object_position": null,
            "object_fit": null,
            "grid_auto_columns": null,
            "margin": null,
            "display": null,
            "left": null
          }
        },
        "17e3319371d04917821b20fd8c652457": {
          "model_module": "@jupyter-widgets/controls",
          "model_name": "FloatProgressModel",
          "state": {
            "_view_name": "ProgressView",
            "style": "IPY_MODEL_d573af0ddc7d400a90c35593ec11241b",
            "_dom_classes": [],
            "description": "",
            "_model_name": "FloatProgressModel",
            "bar_style": "success",
            "max": 9912422,
            "_view_module": "@jupyter-widgets/controls",
            "_model_module_version": "1.5.0",
            "value": 9912422,
            "_view_count": null,
            "_view_module_version": "1.5.0",
            "orientation": "horizontal",
            "min": 0,
            "description_tooltip": null,
            "_model_module": "@jupyter-widgets/controls",
            "layout": "IPY_MODEL_80d1b79bf78845a0aebdb45fc62690bd"
          }
        },
        "7d084eb9f45840b38e75c1f9552f11ba": {
          "model_module": "@jupyter-widgets/controls",
          "model_name": "HTMLModel",
          "state": {
            "_view_name": "HTMLView",
            "style": "IPY_MODEL_8c5f1e8997464e33948a0ccbb68bdf75",
            "_dom_classes": [],
            "description": "",
            "_model_name": "HTMLModel",
            "placeholder": "​",
            "_view_module": "@jupyter-widgets/controls",
            "_model_module_version": "1.5.0",
            "value": " 9913344/? [04:00&lt;00:00, 41240.34it/s]",
            "_view_count": null,
            "_view_module_version": "1.5.0",
            "description_tooltip": null,
            "_model_module": "@jupyter-widgets/controls",
            "layout": "IPY_MODEL_cee4f5534806417d90353378e886f8a3"
          }
        },
        "d573af0ddc7d400a90c35593ec11241b": {
          "model_module": "@jupyter-widgets/controls",
          "model_name": "ProgressStyleModel",
          "state": {
            "_view_name": "StyleView",
            "_model_name": "ProgressStyleModel",
            "description_width": "initial",
            "_view_module": "@jupyter-widgets/base",
            "_model_module_version": "1.5.0",
            "_view_count": null,
            "_view_module_version": "1.2.0",
            "bar_color": null,
            "_model_module": "@jupyter-widgets/controls"
          }
        },
        "80d1b79bf78845a0aebdb45fc62690bd": {
          "model_module": "@jupyter-widgets/base",
          "model_name": "LayoutModel",
          "state": {
            "_view_name": "LayoutView",
            "grid_template_rows": null,
            "right": null,
            "justify_content": null,
            "_view_module": "@jupyter-widgets/base",
            "overflow": null,
            "_model_module_version": "1.2.0",
            "_view_count": null,
            "flex_flow": null,
            "width": null,
            "min_width": null,
            "border": null,
            "align_items": null,
            "bottom": null,
            "_model_module": "@jupyter-widgets/base",
            "top": null,
            "grid_column": null,
            "overflow_y": null,
            "overflow_x": null,
            "grid_auto_flow": null,
            "grid_area": null,
            "grid_template_columns": null,
            "flex": null,
            "_model_name": "LayoutModel",
            "justify_items": null,
            "grid_row": null,
            "max_height": null,
            "align_content": null,
            "visibility": null,
            "align_self": null,
            "height": null,
            "min_height": null,
            "padding": null,
            "grid_auto_rows": null,
            "grid_gap": null,
            "max_width": null,
            "order": null,
            "_view_module_version": "1.2.0",
            "grid_template_areas": null,
            "object_position": null,
            "object_fit": null,
            "grid_auto_columns": null,
            "margin": null,
            "display": null,
            "left": null
          }
        },
        "8c5f1e8997464e33948a0ccbb68bdf75": {
          "model_module": "@jupyter-widgets/controls",
          "model_name": "DescriptionStyleModel",
          "state": {
            "_view_name": "StyleView",
            "_model_name": "DescriptionStyleModel",
            "description_width": "",
            "_view_module": "@jupyter-widgets/base",
            "_model_module_version": "1.5.0",
            "_view_count": null,
            "_view_module_version": "1.2.0",
            "_model_module": "@jupyter-widgets/controls"
          }
        },
        "cee4f5534806417d90353378e886f8a3": {
          "model_module": "@jupyter-widgets/base",
          "model_name": "LayoutModel",
          "state": {
            "_view_name": "LayoutView",
            "grid_template_rows": null,
            "right": null,
            "justify_content": null,
            "_view_module": "@jupyter-widgets/base",
            "overflow": null,
            "_model_module_version": "1.2.0",
            "_view_count": null,
            "flex_flow": null,
            "width": null,
            "min_width": null,
            "border": null,
            "align_items": null,
            "bottom": null,
            "_model_module": "@jupyter-widgets/base",
            "top": null,
            "grid_column": null,
            "overflow_y": null,
            "overflow_x": null,
            "grid_auto_flow": null,
            "grid_area": null,
            "grid_template_columns": null,
            "flex": null,
            "_model_name": "LayoutModel",
            "justify_items": null,
            "grid_row": null,
            "max_height": null,
            "align_content": null,
            "visibility": null,
            "align_self": null,
            "height": null,
            "min_height": null,
            "padding": null,
            "grid_auto_rows": null,
            "grid_gap": null,
            "max_width": null,
            "order": null,
            "_view_module_version": "1.2.0",
            "grid_template_areas": null,
            "object_position": null,
            "object_fit": null,
            "grid_auto_columns": null,
            "margin": null,
            "display": null,
            "left": null
          }
        },
        "17f9d8e85eb64c708b796aefcd6c6a82": {
          "model_module": "@jupyter-widgets/controls",
          "model_name": "HBoxModel",
          "state": {
            "_view_name": "HBoxView",
            "_dom_classes": [],
            "_model_name": "HBoxModel",
            "_view_module": "@jupyter-widgets/controls",
            "_model_module_version": "1.5.0",
            "_view_count": null,
            "_view_module_version": "1.5.0",
            "box_style": "",
            "layout": "IPY_MODEL_0710af532f464096bf1026a2d6af3f74",
            "_model_module": "@jupyter-widgets/controls",
            "children": [
              "IPY_MODEL_1465c07372ea4520afd414b13ddc658a",
              "IPY_MODEL_a1d89788ed314f48995ad77fd9fa32ec"
            ]
          }
        },
        "0710af532f464096bf1026a2d6af3f74": {
          "model_module": "@jupyter-widgets/base",
          "model_name": "LayoutModel",
          "state": {
            "_view_name": "LayoutView",
            "grid_template_rows": null,
            "right": null,
            "justify_content": null,
            "_view_module": "@jupyter-widgets/base",
            "overflow": null,
            "_model_module_version": "1.2.0",
            "_view_count": null,
            "flex_flow": null,
            "width": null,
            "min_width": null,
            "border": null,
            "align_items": null,
            "bottom": null,
            "_model_module": "@jupyter-widgets/base",
            "top": null,
            "grid_column": null,
            "overflow_y": null,
            "overflow_x": null,
            "grid_auto_flow": null,
            "grid_area": null,
            "grid_template_columns": null,
            "flex": null,
            "_model_name": "LayoutModel",
            "justify_items": null,
            "grid_row": null,
            "max_height": null,
            "align_content": null,
            "visibility": null,
            "align_self": null,
            "height": null,
            "min_height": null,
            "padding": null,
            "grid_auto_rows": null,
            "grid_gap": null,
            "max_width": null,
            "order": null,
            "_view_module_version": "1.2.0",
            "grid_template_areas": null,
            "object_position": null,
            "object_fit": null,
            "grid_auto_columns": null,
            "margin": null,
            "display": null,
            "left": null
          }
        },
        "1465c07372ea4520afd414b13ddc658a": {
          "model_module": "@jupyter-widgets/controls",
          "model_name": "FloatProgressModel",
          "state": {
            "_view_name": "ProgressView",
            "style": "IPY_MODEL_7a92e6df92bb428eb292fdad578ff91a",
            "_dom_classes": [],
            "description": "",
            "_model_name": "FloatProgressModel",
            "bar_style": "success",
            "max": 28881,
            "_view_module": "@jupyter-widgets/controls",
            "_model_module_version": "1.5.0",
            "value": 28881,
            "_view_count": null,
            "_view_module_version": "1.5.0",
            "orientation": "horizontal",
            "min": 0,
            "description_tooltip": null,
            "_model_module": "@jupyter-widgets/controls",
            "layout": "IPY_MODEL_41c9853894364b4e90c4488fb5a51e95"
          }
        },
        "a1d89788ed314f48995ad77fd9fa32ec": {
          "model_module": "@jupyter-widgets/controls",
          "model_name": "HTMLModel",
          "state": {
            "_view_name": "HTMLView",
            "style": "IPY_MODEL_42721c5e401c432c9eb6dec11c8c0a39",
            "_dom_classes": [],
            "description": "",
            "_model_name": "HTMLModel",
            "placeholder": "​",
            "_view_module": "@jupyter-widgets/controls",
            "_model_module_version": "1.5.0",
            "value": " 29696/? [03:59&lt;00:00, 124.04it/s]",
            "_view_count": null,
            "_view_module_version": "1.5.0",
            "description_tooltip": null,
            "_model_module": "@jupyter-widgets/controls",
            "layout": "IPY_MODEL_fea7471c4fc34e6a926074d2c4d14ae6"
          }
        },
        "7a92e6df92bb428eb292fdad578ff91a": {
          "model_module": "@jupyter-widgets/controls",
          "model_name": "ProgressStyleModel",
          "state": {
            "_view_name": "StyleView",
            "_model_name": "ProgressStyleModel",
            "description_width": "initial",
            "_view_module": "@jupyter-widgets/base",
            "_model_module_version": "1.5.0",
            "_view_count": null,
            "_view_module_version": "1.2.0",
            "bar_color": null,
            "_model_module": "@jupyter-widgets/controls"
          }
        },
        "41c9853894364b4e90c4488fb5a51e95": {
          "model_module": "@jupyter-widgets/base",
          "model_name": "LayoutModel",
          "state": {
            "_view_name": "LayoutView",
            "grid_template_rows": null,
            "right": null,
            "justify_content": null,
            "_view_module": "@jupyter-widgets/base",
            "overflow": null,
            "_model_module_version": "1.2.0",
            "_view_count": null,
            "flex_flow": null,
            "width": null,
            "min_width": null,
            "border": null,
            "align_items": null,
            "bottom": null,
            "_model_module": "@jupyter-widgets/base",
            "top": null,
            "grid_column": null,
            "overflow_y": null,
            "overflow_x": null,
            "grid_auto_flow": null,
            "grid_area": null,
            "grid_template_columns": null,
            "flex": null,
            "_model_name": "LayoutModel",
            "justify_items": null,
            "grid_row": null,
            "max_height": null,
            "align_content": null,
            "visibility": null,
            "align_self": null,
            "height": null,
            "min_height": null,
            "padding": null,
            "grid_auto_rows": null,
            "grid_gap": null,
            "max_width": null,
            "order": null,
            "_view_module_version": "1.2.0",
            "grid_template_areas": null,
            "object_position": null,
            "object_fit": null,
            "grid_auto_columns": null,
            "margin": null,
            "display": null,
            "left": null
          }
        },
        "42721c5e401c432c9eb6dec11c8c0a39": {
          "model_module": "@jupyter-widgets/controls",
          "model_name": "DescriptionStyleModel",
          "state": {
            "_view_name": "StyleView",
            "_model_name": "DescriptionStyleModel",
            "description_width": "",
            "_view_module": "@jupyter-widgets/base",
            "_model_module_version": "1.5.0",
            "_view_count": null,
            "_view_module_version": "1.2.0",
            "_model_module": "@jupyter-widgets/controls"
          }
        },
        "fea7471c4fc34e6a926074d2c4d14ae6": {
          "model_module": "@jupyter-widgets/base",
          "model_name": "LayoutModel",
          "state": {
            "_view_name": "LayoutView",
            "grid_template_rows": null,
            "right": null,
            "justify_content": null,
            "_view_module": "@jupyter-widgets/base",
            "overflow": null,
            "_model_module_version": "1.2.0",
            "_view_count": null,
            "flex_flow": null,
            "width": null,
            "min_width": null,
            "border": null,
            "align_items": null,
            "bottom": null,
            "_model_module": "@jupyter-widgets/base",
            "top": null,
            "grid_column": null,
            "overflow_y": null,
            "overflow_x": null,
            "grid_auto_flow": null,
            "grid_area": null,
            "grid_template_columns": null,
            "flex": null,
            "_model_name": "LayoutModel",
            "justify_items": null,
            "grid_row": null,
            "max_height": null,
            "align_content": null,
            "visibility": null,
            "align_self": null,
            "height": null,
            "min_height": null,
            "padding": null,
            "grid_auto_rows": null,
            "grid_gap": null,
            "max_width": null,
            "order": null,
            "_view_module_version": "1.2.0",
            "grid_template_areas": null,
            "object_position": null,
            "object_fit": null,
            "grid_auto_columns": null,
            "margin": null,
            "display": null,
            "left": null
          }
        },
        "bc9175a0315f446e9cf32206234eeae4": {
          "model_module": "@jupyter-widgets/controls",
          "model_name": "HBoxModel",
          "state": {
            "_view_name": "HBoxView",
            "_dom_classes": [],
            "_model_name": "HBoxModel",
            "_view_module": "@jupyter-widgets/controls",
            "_model_module_version": "1.5.0",
            "_view_count": null,
            "_view_module_version": "1.5.0",
            "box_style": "",
            "layout": "IPY_MODEL_43f7158f6ca4447dad59f856845ce947",
            "_model_module": "@jupyter-widgets/controls",
            "children": [
              "IPY_MODEL_a378f33aec194cdb8dad44777ba74416",
              "IPY_MODEL_b76a9e42fd2d43419972ac5ce9942e13"
            ]
          }
        },
        "43f7158f6ca4447dad59f856845ce947": {
          "model_module": "@jupyter-widgets/base",
          "model_name": "LayoutModel",
          "state": {
            "_view_name": "LayoutView",
            "grid_template_rows": null,
            "right": null,
            "justify_content": null,
            "_view_module": "@jupyter-widgets/base",
            "overflow": null,
            "_model_module_version": "1.2.0",
            "_view_count": null,
            "flex_flow": null,
            "width": null,
            "min_width": null,
            "border": null,
            "align_items": null,
            "bottom": null,
            "_model_module": "@jupyter-widgets/base",
            "top": null,
            "grid_column": null,
            "overflow_y": null,
            "overflow_x": null,
            "grid_auto_flow": null,
            "grid_area": null,
            "grid_template_columns": null,
            "flex": null,
            "_model_name": "LayoutModel",
            "justify_items": null,
            "grid_row": null,
            "max_height": null,
            "align_content": null,
            "visibility": null,
            "align_self": null,
            "height": null,
            "min_height": null,
            "padding": null,
            "grid_auto_rows": null,
            "grid_gap": null,
            "max_width": null,
            "order": null,
            "_view_module_version": "1.2.0",
            "grid_template_areas": null,
            "object_position": null,
            "object_fit": null,
            "grid_auto_columns": null,
            "margin": null,
            "display": null,
            "left": null
          }
        },
        "a378f33aec194cdb8dad44777ba74416": {
          "model_module": "@jupyter-widgets/controls",
          "model_name": "FloatProgressModel",
          "state": {
            "_view_name": "ProgressView",
            "style": "IPY_MODEL_771947b3e207442bb6205ddf31a1e1ff",
            "_dom_classes": [],
            "description": "",
            "_model_name": "FloatProgressModel",
            "bar_style": "success",
            "max": 1648877,
            "_view_module": "@jupyter-widgets/controls",
            "_model_module_version": "1.5.0",
            "value": 1648877,
            "_view_count": null,
            "_view_module_version": "1.5.0",
            "orientation": "horizontal",
            "min": 0,
            "description_tooltip": null,
            "_model_module": "@jupyter-widgets/controls",
            "layout": "IPY_MODEL_82f79e50dc8144129cc0f18f97951140"
          }
        },
        "b76a9e42fd2d43419972ac5ce9942e13": {
          "model_module": "@jupyter-widgets/controls",
          "model_name": "HTMLModel",
          "state": {
            "_view_name": "HTMLView",
            "style": "IPY_MODEL_3aadbc3e60f74ffdbb270aa6198a9a73",
            "_dom_classes": [],
            "description": "",
            "_model_name": "HTMLModel",
            "placeholder": "​",
            "_view_module": "@jupyter-widgets/controls",
            "_model_module_version": "1.5.0",
            "value": " 1649664/? [00:00&lt;00:00, 1650976.34it/s]",
            "_view_count": null,
            "_view_module_version": "1.5.0",
            "description_tooltip": null,
            "_model_module": "@jupyter-widgets/controls",
            "layout": "IPY_MODEL_3f88ee23d5f543f9a012bd3b253ca450"
          }
        },
        "771947b3e207442bb6205ddf31a1e1ff": {
          "model_module": "@jupyter-widgets/controls",
          "model_name": "ProgressStyleModel",
          "state": {
            "_view_name": "StyleView",
            "_model_name": "ProgressStyleModel",
            "description_width": "initial",
            "_view_module": "@jupyter-widgets/base",
            "_model_module_version": "1.5.0",
            "_view_count": null,
            "_view_module_version": "1.2.0",
            "bar_color": null,
            "_model_module": "@jupyter-widgets/controls"
          }
        },
        "82f79e50dc8144129cc0f18f97951140": {
          "model_module": "@jupyter-widgets/base",
          "model_name": "LayoutModel",
          "state": {
            "_view_name": "LayoutView",
            "grid_template_rows": null,
            "right": null,
            "justify_content": null,
            "_view_module": "@jupyter-widgets/base",
            "overflow": null,
            "_model_module_version": "1.2.0",
            "_view_count": null,
            "flex_flow": null,
            "width": null,
            "min_width": null,
            "border": null,
            "align_items": null,
            "bottom": null,
            "_model_module": "@jupyter-widgets/base",
            "top": null,
            "grid_column": null,
            "overflow_y": null,
            "overflow_x": null,
            "grid_auto_flow": null,
            "grid_area": null,
            "grid_template_columns": null,
            "flex": null,
            "_model_name": "LayoutModel",
            "justify_items": null,
            "grid_row": null,
            "max_height": null,
            "align_content": null,
            "visibility": null,
            "align_self": null,
            "height": null,
            "min_height": null,
            "padding": null,
            "grid_auto_rows": null,
            "grid_gap": null,
            "max_width": null,
            "order": null,
            "_view_module_version": "1.2.0",
            "grid_template_areas": null,
            "object_position": null,
            "object_fit": null,
            "grid_auto_columns": null,
            "margin": null,
            "display": null,
            "left": null
          }
        },
        "3aadbc3e60f74ffdbb270aa6198a9a73": {
          "model_module": "@jupyter-widgets/controls",
          "model_name": "DescriptionStyleModel",
          "state": {
            "_view_name": "StyleView",
            "_model_name": "DescriptionStyleModel",
            "description_width": "",
            "_view_module": "@jupyter-widgets/base",
            "_model_module_version": "1.5.0",
            "_view_count": null,
            "_view_module_version": "1.2.0",
            "_model_module": "@jupyter-widgets/controls"
          }
        },
        "3f88ee23d5f543f9a012bd3b253ca450": {
          "model_module": "@jupyter-widgets/base",
          "model_name": "LayoutModel",
          "state": {
            "_view_name": "LayoutView",
            "grid_template_rows": null,
            "right": null,
            "justify_content": null,
            "_view_module": "@jupyter-widgets/base",
            "overflow": null,
            "_model_module_version": "1.2.0",
            "_view_count": null,
            "flex_flow": null,
            "width": null,
            "min_width": null,
            "border": null,
            "align_items": null,
            "bottom": null,
            "_model_module": "@jupyter-widgets/base",
            "top": null,
            "grid_column": null,
            "overflow_y": null,
            "overflow_x": null,
            "grid_auto_flow": null,
            "grid_area": null,
            "grid_template_columns": null,
            "flex": null,
            "_model_name": "LayoutModel",
            "justify_items": null,
            "grid_row": null,
            "max_height": null,
            "align_content": null,
            "visibility": null,
            "align_self": null,
            "height": null,
            "min_height": null,
            "padding": null,
            "grid_auto_rows": null,
            "grid_gap": null,
            "max_width": null,
            "order": null,
            "_view_module_version": "1.2.0",
            "grid_template_areas": null,
            "object_position": null,
            "object_fit": null,
            "grid_auto_columns": null,
            "margin": null,
            "display": null,
            "left": null
          }
        },
        "7fe7ba1e480c4cd1ac0b2fa24d0a04b5": {
          "model_module": "@jupyter-widgets/controls",
          "model_name": "HBoxModel",
          "state": {
            "_view_name": "HBoxView",
            "_dom_classes": [],
            "_model_name": "HBoxModel",
            "_view_module": "@jupyter-widgets/controls",
            "_model_module_version": "1.5.0",
            "_view_count": null,
            "_view_module_version": "1.5.0",
            "box_style": "",
            "layout": "IPY_MODEL_e790616fec204cdc8e4471f9e937cf9c",
            "_model_module": "@jupyter-widgets/controls",
            "children": [
              "IPY_MODEL_f6161b118e3844c8a2050137863cdf64",
              "IPY_MODEL_85a86e4b716a4e1fa77e2511b1975f07"
            ]
          }
        },
        "e790616fec204cdc8e4471f9e937cf9c": {
          "model_module": "@jupyter-widgets/base",
          "model_name": "LayoutModel",
          "state": {
            "_view_name": "LayoutView",
            "grid_template_rows": null,
            "right": null,
            "justify_content": null,
            "_view_module": "@jupyter-widgets/base",
            "overflow": null,
            "_model_module_version": "1.2.0",
            "_view_count": null,
            "flex_flow": null,
            "width": null,
            "min_width": null,
            "border": null,
            "align_items": null,
            "bottom": null,
            "_model_module": "@jupyter-widgets/base",
            "top": null,
            "grid_column": null,
            "overflow_y": null,
            "overflow_x": null,
            "grid_auto_flow": null,
            "grid_area": null,
            "grid_template_columns": null,
            "flex": null,
            "_model_name": "LayoutModel",
            "justify_items": null,
            "grid_row": null,
            "max_height": null,
            "align_content": null,
            "visibility": null,
            "align_self": null,
            "height": null,
            "min_height": null,
            "padding": null,
            "grid_auto_rows": null,
            "grid_gap": null,
            "max_width": null,
            "order": null,
            "_view_module_version": "1.2.0",
            "grid_template_areas": null,
            "object_position": null,
            "object_fit": null,
            "grid_auto_columns": null,
            "margin": null,
            "display": null,
            "left": null
          }
        },
        "f6161b118e3844c8a2050137863cdf64": {
          "model_module": "@jupyter-widgets/controls",
          "model_name": "FloatProgressModel",
          "state": {
            "_view_name": "ProgressView",
            "style": "IPY_MODEL_f4a97cf7076e44888ae2173a2fb24f8f",
            "_dom_classes": [],
            "description": "",
            "_model_name": "FloatProgressModel",
            "bar_style": "success",
            "max": 4542,
            "_view_module": "@jupyter-widgets/controls",
            "_model_module_version": "1.5.0",
            "value": 4542,
            "_view_count": null,
            "_view_module_version": "1.5.0",
            "orientation": "horizontal",
            "min": 0,
            "description_tooltip": null,
            "_model_module": "@jupyter-widgets/controls",
            "layout": "IPY_MODEL_f9d6e957788f4e939f710a2a2e6149e3"
          }
        },
        "85a86e4b716a4e1fa77e2511b1975f07": {
          "model_module": "@jupyter-widgets/controls",
          "model_name": "HTMLModel",
          "state": {
            "_view_name": "HTMLView",
            "style": "IPY_MODEL_f364947831b940a886a8d6359cc5e796",
            "_dom_classes": [],
            "description": "",
            "_model_name": "HTMLModel",
            "placeholder": "​",
            "_view_module": "@jupyter-widgets/controls",
            "_model_module_version": "1.5.0",
            "value": " 5120/? [00:00&lt;00:00, 10025.23it/s]",
            "_view_count": null,
            "_view_module_version": "1.5.0",
            "description_tooltip": null,
            "_model_module": "@jupyter-widgets/controls",
            "layout": "IPY_MODEL_f9484bbff0f64d6db8ac16f8b16c0573"
          }
        },
        "f4a97cf7076e44888ae2173a2fb24f8f": {
          "model_module": "@jupyter-widgets/controls",
          "model_name": "ProgressStyleModel",
          "state": {
            "_view_name": "StyleView",
            "_model_name": "ProgressStyleModel",
            "description_width": "initial",
            "_view_module": "@jupyter-widgets/base",
            "_model_module_version": "1.5.0",
            "_view_count": null,
            "_view_module_version": "1.2.0",
            "bar_color": null,
            "_model_module": "@jupyter-widgets/controls"
          }
        },
        "f9d6e957788f4e939f710a2a2e6149e3": {
          "model_module": "@jupyter-widgets/base",
          "model_name": "LayoutModel",
          "state": {
            "_view_name": "LayoutView",
            "grid_template_rows": null,
            "right": null,
            "justify_content": null,
            "_view_module": "@jupyter-widgets/base",
            "overflow": null,
            "_model_module_version": "1.2.0",
            "_view_count": null,
            "flex_flow": null,
            "width": null,
            "min_width": null,
            "border": null,
            "align_items": null,
            "bottom": null,
            "_model_module": "@jupyter-widgets/base",
            "top": null,
            "grid_column": null,
            "overflow_y": null,
            "overflow_x": null,
            "grid_auto_flow": null,
            "grid_area": null,
            "grid_template_columns": null,
            "flex": null,
            "_model_name": "LayoutModel",
            "justify_items": null,
            "grid_row": null,
            "max_height": null,
            "align_content": null,
            "visibility": null,
            "align_self": null,
            "height": null,
            "min_height": null,
            "padding": null,
            "grid_auto_rows": null,
            "grid_gap": null,
            "max_width": null,
            "order": null,
            "_view_module_version": "1.2.0",
            "grid_template_areas": null,
            "object_position": null,
            "object_fit": null,
            "grid_auto_columns": null,
            "margin": null,
            "display": null,
            "left": null
          }
        },
        "f364947831b940a886a8d6359cc5e796": {
          "model_module": "@jupyter-widgets/controls",
          "model_name": "DescriptionStyleModel",
          "state": {
            "_view_name": "StyleView",
            "_model_name": "DescriptionStyleModel",
            "description_width": "",
            "_view_module": "@jupyter-widgets/base",
            "_model_module_version": "1.5.0",
            "_view_count": null,
            "_view_module_version": "1.2.0",
            "_model_module": "@jupyter-widgets/controls"
          }
        },
        "f9484bbff0f64d6db8ac16f8b16c0573": {
          "model_module": "@jupyter-widgets/base",
          "model_name": "LayoutModel",
          "state": {
            "_view_name": "LayoutView",
            "grid_template_rows": null,
            "right": null,
            "justify_content": null,
            "_view_module": "@jupyter-widgets/base",
            "overflow": null,
            "_model_module_version": "1.2.0",
            "_view_count": null,
            "flex_flow": null,
            "width": null,
            "min_width": null,
            "border": null,
            "align_items": null,
            "bottom": null,
            "_model_module": "@jupyter-widgets/base",
            "top": null,
            "grid_column": null,
            "overflow_y": null,
            "overflow_x": null,
            "grid_auto_flow": null,
            "grid_area": null,
            "grid_template_columns": null,
            "flex": null,
            "_model_name": "LayoutModel",
            "justify_items": null,
            "grid_row": null,
            "max_height": null,
            "align_content": null,
            "visibility": null,
            "align_self": null,
            "height": null,
            "min_height": null,
            "padding": null,
            "grid_auto_rows": null,
            "grid_gap": null,
            "max_width": null,
            "order": null,
            "_view_module_version": "1.2.0",
            "grid_template_areas": null,
            "object_position": null,
            "object_fit": null,
            "grid_auto_columns": null,
            "margin": null,
            "display": null,
            "left": null
          }
        }
      }
    }
  },
  "cells": [
    {
      "cell_type": "markdown",
      "metadata": {
        "id": "view-in-github",
        "colab_type": "text"
      },
      "source": [
        "<a href=\"https://colab.research.google.com/github/MAHA06/ThesisOulu/blob/master/Adversarials/Thesis.ipynb\" target=\"_parent\"><img src=\"https://colab.research.google.com/assets/colab-badge.svg\" alt=\"Open In Colab\"/></a>"
      ]
    },
    {
      "cell_type": "code",
      "metadata": {
        "id": "54pec7A464Ta"
      },
      "source": [
        "# from google.colab import drive\n",
        "# drive.mount(‘/content/gdrive’)"
      ],
      "execution_count": 1,
      "outputs": []
    },
    {
      "cell_type": "code",
      "metadata": {
        "id": "4GzjWdjAfomN"
      },
      "source": [
        "import numpy as np\n",
        "import matplotlib.pyplot as plt\n",
        "import torch\n",
        "import pickle\n",
        "\n",
        "import torch.nn as nn\n",
        "import torch.nn.functional as F\n",
        "import torch.optim as optim\n",
        "from torchvision import transforms,datasets\n",
        "np.random.seed(42) \n",
        "torch.manual_seed(42)\n",
        "import pickle\n",
        "import matplotlib.pyplot as plt\n"
      ],
      "execution_count": 2,
      "outputs": []
    },
    {
      "cell_type": "code",
      "metadata": {
        "id": "GsxBn-i6fmfw",
        "outputId": "eac43a7e-3417-4c5c-9317-19a8e8f250e6",
        "colab": {
          "base_uri": "https://localhost:8080/",
          "height": 743,
          "referenced_widgets": [
            "710d40d4442d48dc842e1de2fb7052cf",
            "16737741f8514139843fc0ab5d75d3e2",
            "17e3319371d04917821b20fd8c652457",
            "7d084eb9f45840b38e75c1f9552f11ba",
            "d573af0ddc7d400a90c35593ec11241b",
            "80d1b79bf78845a0aebdb45fc62690bd",
            "8c5f1e8997464e33948a0ccbb68bdf75",
            "cee4f5534806417d90353378e886f8a3",
            "17f9d8e85eb64c708b796aefcd6c6a82",
            "0710af532f464096bf1026a2d6af3f74",
            "1465c07372ea4520afd414b13ddc658a",
            "a1d89788ed314f48995ad77fd9fa32ec",
            "7a92e6df92bb428eb292fdad578ff91a",
            "41c9853894364b4e90c4488fb5a51e95",
            "42721c5e401c432c9eb6dec11c8c0a39",
            "fea7471c4fc34e6a926074d2c4d14ae6",
            "bc9175a0315f446e9cf32206234eeae4",
            "43f7158f6ca4447dad59f856845ce947",
            "a378f33aec194cdb8dad44777ba74416",
            "b76a9e42fd2d43419972ac5ce9942e13",
            "771947b3e207442bb6205ddf31a1e1ff",
            "82f79e50dc8144129cc0f18f97951140",
            "3aadbc3e60f74ffdbb270aa6198a9a73",
            "3f88ee23d5f543f9a012bd3b253ca450",
            "7fe7ba1e480c4cd1ac0b2fa24d0a04b5",
            "e790616fec204cdc8e4471f9e937cf9c",
            "f6161b118e3844c8a2050137863cdf64",
            "85a86e4b716a4e1fa77e2511b1975f07",
            "f4a97cf7076e44888ae2173a2fb24f8f",
            "f9d6e957788f4e939f710a2a2e6149e3",
            "f364947831b940a886a8d6359cc5e796",
            "f9484bbff0f64d6db8ac16f8b16c0573"
          ]
        }
      },
      "source": [
        "online=True\n",
        "train_batch,test_batch=128,128\n",
        "img_size=(28,28)\n",
        "num_classes=10\n",
        "transform = transforms.Compose([transforms.ToTensor(), transforms.Normalize((0.0,), (1.0,))])\n",
        "dataset = datasets.MNIST(root = './data', train=True, transform = transform, download=True)\n",
        "train_set, val_set = torch.utils.data.random_split(dataset, [50000, 10000])\n",
        "test_set = datasets.MNIST(root = './data', train=False, transform = transform, download=True)\n",
        "train_loader = torch.utils.data.DataLoader(train_set,batch_size=1,shuffle=True) \n",
        "val_loader = torch.utils.data.DataLoader(val_set,batch_size=1,shuffle=True)\n",
        "test_loader = torch.utils.data.DataLoader(test_set,batch_size=1,shuffle=True)"
      ],
      "execution_count": 3,
      "outputs": [
        {
          "output_type": "stream",
          "text": [
            "Downloading http://yann.lecun.com/exdb/mnist/train-images-idx3-ubyte.gz\n",
            "Downloading http://yann.lecun.com/exdb/mnist/train-images-idx3-ubyte.gz to ./data/MNIST/raw/train-images-idx3-ubyte.gz\n",
            "Failed to download (trying next):\n",
            "HTTP Error 503: Service Unavailable\n",
            "\n",
            "Downloading https://ossci-datasets.s3.amazonaws.com/mnist/train-images-idx3-ubyte.gz\n",
            "Downloading https://ossci-datasets.s3.amazonaws.com/mnist/train-images-idx3-ubyte.gz to ./data/MNIST/raw/train-images-idx3-ubyte.gz\n"
          ],
          "name": "stdout"
        },
        {
          "output_type": "display_data",
          "data": {
            "application/vnd.jupyter.widget-view+json": {
              "model_id": "710d40d4442d48dc842e1de2fb7052cf",
              "version_minor": 0,
              "version_major": 2
            },
            "text/plain": [
              "HBox(children=(FloatProgress(value=0.0, max=9912422.0), HTML(value='')))"
            ]
          },
          "metadata": {
            "tags": []
          }
        },
        {
          "output_type": "stream",
          "text": [
            "\n",
            "Extracting ./data/MNIST/raw/train-images-idx3-ubyte.gz to ./data/MNIST/raw\n",
            "\n",
            "Downloading http://yann.lecun.com/exdb/mnist/train-labels-idx1-ubyte.gz\n",
            "Downloading http://yann.lecun.com/exdb/mnist/train-labels-idx1-ubyte.gz to ./data/MNIST/raw/train-labels-idx1-ubyte.gz\n"
          ],
          "name": "stdout"
        },
        {
          "output_type": "display_data",
          "data": {
            "application/vnd.jupyter.widget-view+json": {
              "model_id": "17f9d8e85eb64c708b796aefcd6c6a82",
              "version_minor": 0,
              "version_major": 2
            },
            "text/plain": [
              "HBox(children=(FloatProgress(value=0.0, max=28881.0), HTML(value='')))"
            ]
          },
          "metadata": {
            "tags": []
          }
        },
        {
          "output_type": "stream",
          "text": [
            "\n",
            "Extracting ./data/MNIST/raw/train-labels-idx1-ubyte.gz to ./data/MNIST/raw\n",
            "\n",
            "Downloading http://yann.lecun.com/exdb/mnist/t10k-images-idx3-ubyte.gz\n",
            "Downloading http://yann.lecun.com/exdb/mnist/t10k-images-idx3-ubyte.gz to ./data/MNIST/raw/t10k-images-idx3-ubyte.gz\n",
            "Failed to download (trying next):\n",
            "HTTP Error 503: Service Unavailable\n",
            "\n",
            "Downloading https://ossci-datasets.s3.amazonaws.com/mnist/t10k-images-idx3-ubyte.gz\n",
            "Downloading https://ossci-datasets.s3.amazonaws.com/mnist/t10k-images-idx3-ubyte.gz to ./data/MNIST/raw/t10k-images-idx3-ubyte.gz\n"
          ],
          "name": "stdout"
        },
        {
          "output_type": "display_data",
          "data": {
            "application/vnd.jupyter.widget-view+json": {
              "model_id": "bc9175a0315f446e9cf32206234eeae4",
              "version_minor": 0,
              "version_major": 2
            },
            "text/plain": [
              "HBox(children=(FloatProgress(value=0.0, max=1648877.0), HTML(value='')))"
            ]
          },
          "metadata": {
            "tags": []
          }
        },
        {
          "output_type": "stream",
          "text": [
            "\n",
            "Extracting ./data/MNIST/raw/t10k-images-idx3-ubyte.gz to ./data/MNIST/raw\n",
            "\n",
            "Downloading http://yann.lecun.com/exdb/mnist/t10k-labels-idx1-ubyte.gz\n",
            "Downloading http://yann.lecun.com/exdb/mnist/t10k-labels-idx1-ubyte.gz to ./data/MNIST/raw/t10k-labels-idx1-ubyte.gz\n"
          ],
          "name": "stdout"
        },
        {
          "output_type": "display_data",
          "data": {
            "application/vnd.jupyter.widget-view+json": {
              "model_id": "7fe7ba1e480c4cd1ac0b2fa24d0a04b5",
              "version_minor": 0,
              "version_major": 2
            },
            "text/plain": [
              "HBox(children=(FloatProgress(value=0.0, max=4542.0), HTML(value='')))"
            ]
          },
          "metadata": {
            "tags": []
          }
        },
        {
          "output_type": "stream",
          "text": [
            "\n",
            "Extracting ./data/MNIST/raw/t10k-labels-idx1-ubyte.gz to ./data/MNIST/raw\n",
            "\n",
            "Processing...\n",
            "Done!\n"
          ],
          "name": "stdout"
        },
        {
          "output_type": "stream",
          "text": [
            "/usr/local/lib/python3.7/dist-packages/torchvision/datasets/mnist.py:502: UserWarning: The given NumPy array is not writeable, and PyTorch does not support non-writeable tensors. This means you can write to the underlying (supposedly non-writeable) NumPy array using the tensor. You may want to copy the array to protect its data or make it writeable before converting it to a tensor. This type of warning will be suppressed for the rest of this program. (Triggered internally at  /pytorch/torch/csrc/utils/tensor_numpy.cpp:143.)\n",
            "  return torch.from_numpy(parsed.astype(m[2], copy=False)).view(*s)\n"
          ],
          "name": "stderr"
        }
      ]
    },
    {
      "cell_type": "code",
      "metadata": {
        "id": "YDRayKODFRju"
      },
      "source": [
        "class Net(nn.Module):\n",
        "  def __init__(self):\n",
        "    super(Net, self).__init__()\n",
        "    self.conv1 = nn.Conv2d(1, 32, 3, 1)\n",
        "    self.conv2 = nn.Conv2d(32, 64, 3, 1)\n",
        "    self.dropout1 = nn.Dropout2d(0.25)\n",
        "    self.dropout2 = nn.Dropout2d(0.5)\n",
        "    self.fc1 = nn.Linear(9216, 128)\n",
        "    self.fc2 = nn.Linear(128, 10)\n",
        "\n",
        "  def forward(self, x):\n",
        "    x = self.conv1(x)\n",
        "    x = F.relu(x)\n",
        "    x = self.conv2(x)\n",
        "    x = F.relu(x)\n",
        "    x = F.max_pool2d(x, 2)\n",
        "    x = self.dropout1(x)\n",
        "    x = torch.flatten(x, 1)\n",
        "    x = self.fc1(x)\n",
        "    x = F.relu(x)\n",
        "    x = self.dropout2(x)\n",
        "    x = self.fc2(x)\n",
        "    output = F.softmax(x, dim=1)\n",
        "    return output\n",
        "\n",
        "\n"
      ],
      "execution_count": 4,
      "outputs": []
    },
    {
      "cell_type": "code",
      "metadata": {
        "id": "aJMQz9fdFRpn",
        "colab": {
          "base_uri": "https://localhost:8080/"
        },
        "outputId": "fa71688b-cde8-4d10-ff57-43c54244e3c9"
      },
      "source": [
        "use_cuda=True\n",
        "device = torch.device(\"cuda\" if (use_cuda and torch.cuda.is_available()) else \"cpu\")\n",
        "print(\"Using the device:\",device)"
      ],
      "execution_count": 5,
      "outputs": [
        {
          "output_type": "stream",
          "text": [
            "Using the device: cuda\n"
          ],
          "name": "stdout"
        }
      ]
    },
    {
      "cell_type": "code",
      "metadata": {
        "id": "Gl-WshaZFRsF"
      },
      "source": [
        "def fitModel(model,optimizer,scheduler,criterion,device,train_loader,val_loader,epochs):\n",
        "  data_loader={'train':train_loader,'val':val_loader}\n",
        "  print(\"Starting to fit the model\")\n",
        "  train_error,test_error=[],[]\n",
        "  best_points=np.zeros(img_size+(num_classes,),dtype=float)\n",
        "  best_scores=np.full(num_classes,-np.inf)\n",
        "  print(best_scores[1])\n",
        "  for epc in range(epochs):\n",
        "    loss_epoch,val_loss_epoch=0,0\n",
        "    for phase in ('train','val'):\n",
        "      for i,data in enumerate(data_loader[phase]):\n",
        "        \n",
        "        input,label=data[0].to(device),data[1].to(device)\n",
        "        # print(input.shape)\n",
        "        out=model(input)\n",
        "        # print(out)\n",
        "        loss=criterion(out,label)\n",
        "        predict_label=torch.argmax(out,dim=1)\n",
        "        out=out.squeeze().detach().cpu().numpy()\n",
        "        if phase == 'train':\n",
        "          optimizer.zero_grad()\n",
        "\n",
        "          loss.backward()\n",
        "          optimizer.step()\n",
        "          loss_epoch+=loss.item()\n",
        "          # print(predict_label.item(),label.item())\n",
        "          # print(out[predict_label.item()],best_scores[predict_label.item()])\n",
        "          # print(out)\n",
        "          if epc == epochs-1 and predict_label.item()==label.item() and out[predict_label.item()]>best_scores[predict_label.item()]:#if last epoch and the predicted label is correct\n",
        "            best_scores[predict_label.item()]=out[predict_label.item()]\n",
        "            best_points[:,:,predict_label]=input.squeeze().detach().cpu().numpy()\n",
        "            # print(label.item(),out[label.item()])\n",
        "            # print(\"The scores were updated:\",best_scores)\n",
        "        else:\n",
        "          val_loss_epoch+=loss.item()\n",
        "    scheduler.step(val_loss_epoch/len(val_loader))\n",
        "    print(\"Epoch : {} Train Loss : {} Eval Loss : {}\".format(epc+1,loss_epoch/len(train_loader),val_loss_epoch/len(val_loader)))\n",
        "    train_error.append(loss_epoch)\n",
        "    test_error.append(val_loss_epoch)\n",
        "  \n",
        "  return train_error,test_error,best_points,best_scores\n",
        "        \n",
        "          \n",
        "\n",
        "\n"
      ],
      "execution_count": 6,
      "outputs": []
    },
    {
      "cell_type": "code",
      "metadata": {
        "id": "E2VlV-xmFRuk"
      },
      "source": [
        "model=Net().to(device)\n",
        "\n",
        "optimizer = optim.Adam(model.parameters(),lr=0.0001, betas=(0.9, 0.999))\n",
        "criterion = nn.NLLLoss()\n",
        "scheduler = optim.lr_scheduler.ReduceLROnPlateau(optimizer, mode='min', factor=0.1, patience=3)\n",
        "\n",
        "\n",
        "###############\n"
      ],
      "execution_count": 7,
      "outputs": []
    },
    {
      "cell_type": "code",
      "metadata": {
        "pycharm": {
          "name": "#%%\n"
        },
        "id": "AWmhvKHDgpCZ",
        "colab": {
          "base_uri": "https://localhost:8080/"
        },
        "outputId": "e7bf9f16-a00e-41aa-ed00-46b05fcabc99"
      },
      "source": [
        "## RUN THE TRAINING\n",
        "if(online):\n",
        "  loss,val_loss,best_points,best_scores=fitModel(model,optimizer,scheduler,criterion,device,train_loader,val_loader,1)\n"
      ],
      "execution_count": 8,
      "outputs": [
        {
          "output_type": "stream",
          "text": [
            "Epoch : 1 Train Loss : -0.8314461663217979 Eval Loss : -0.9207776780530125\n"
          ],
          "name": "stdout"
        }
      ]
    },
    {
      "cell_type": "code",
      "metadata": {
        "colab": {
          "base_uri": "https://localhost:8080/",
          "height": 367
        },
        "id": "HAUXpIF_79an",
        "outputId": "1a94641a-9944-4854-8c4b-aa9315023ef3"
      },
      "source": [
        "if online:\n",
        "  print(best_points.shape)\n",
        "  plt.imshow(best_points[:,:,3])\n",
        "  v=torch.tensor(best_points[:,:,3].reshape(1,1,28,28),dtype=torch.float32)\n",
        "  print(model(v.to(device)))\n",
        "  print(torch.argmax(model(v.to(device))))\n",
        "  print(best_scores)"
      ],
      "execution_count": 9,
      "outputs": [
        {
          "output_type": "stream",
          "text": [
            "(28, 28, 10)\n",
            "tensor([[1.7986e-12, 3.0155e-18, 4.3008e-14, 1.0000e+00, 3.5645e-25, 5.1858e-10,\n",
            "         2.3762e-18, 8.8141e-19, 4.6573e-10, 9.0273e-18]], device='cuda:0',\n",
            "       grad_fn=<SoftmaxBackward>)\n",
            "tensor(3, device='cuda:0')\n",
            "[1. 1. 1. 1. 1. 1. 1. 1. 1. 1.]\n"
          ],
          "name": "stdout"
        },
        {
          "output_type": "display_data",
          "data": {
            "image/png": "[encoded data removed]",
            "text/plain": [
              "<Figure size 432x288 with 1 Axes>"
            ]
          },
          "metadata": {
            "tags": [],
            "needs_background": "light"
          }
        }
      ]
    },
    {
      "cell_type": "code",
      "metadata": {
        "id": "R59id5I4pOEj"
      },
      "source": [
        "if online:\n",
        "  filename = './model_MNIST'\n",
        "  pickle.dump(model, open(filename, 'wb'))\n",
        "  filename = './model_MNIST_cpu'\n",
        "  pickle.dump(model.cpu(), open(filename, 'wb'))\n",
        "  filename = './scores.mf'\n",
        "  best_markers={\"b_p\":best_points,\"b_s\":best_scores}\n",
        "  pickle.dump(best_markers,open(filename,'wb'))"
      ],
      "execution_count": 11,
      "outputs": []
    },
    {
      "cell_type": "code",
      "metadata": {
        "id": "1M92hyHXqrVI"
      },
      "source": [
        "def deepfool(image, net, num_classes, overshoot, max_iter):\n",
        "\n",
        "    \"\"\"\n",
        "       :param image:\n",
        "       :param net: network (input: images, output: values of activation **BEFORE** softmax).\n",
        "       :param num_classes: num_classes (limits the number of classes to test against, by default = 10)\n",
        "       :param overshoot: used as a termination criterion to prevent vanishing updates (default = 0.02).\n",
        "       :param max_iter: maximum number of iterations for deepfool (default = 50)\n",
        "       :return: minimal perturbation that fools the classifier, number of iterations that it required, new estimated_label and perturbed image\n",
        "    \"\"\"\n",
        "\n",
        "    is_cuda = torch.cuda.is_available()\n",
        "    if is_cuda:\n",
        "        image = image.cuda()\n",
        "        net = net.cuda()\n",
        "\n",
        "    f_image = net.forward(Variable(image[None, :, :, :], requires_grad=True)).data.cpu().numpy().flatten()\n",
        "    I = f_image.argsort()[::-1]\n",
        "\n",
        "    I = I[0:num_classes]\n",
        "    label = I[0]\n",
        "\n",
        "    input_shape = image.cpu().numpy().shape\n",
        "    pert_image = copy.deepcopy(image)\n",
        "    w = np.zeros(input_shape)\n",
        "    r_tot = np.zeros(input_shape)\n",
        "\n",
        "    loop_i = 0\n",
        "\n",
        "    x = Variable(pert_image[None, :], requires_grad=True)\n",
        "    fs = net.forward(x)\n",
        "    k_i = label\n",
        "\n",
        "    while k_i == label and loop_i < max_iter:\n",
        "\n",
        "        pert = np.inf\n",
        "        fs[0, I[0]].backward(retain_graph=True)\n",
        "        grad_orig = x.grad.data.cpu().numpy().copy()\n",
        "\n",
        "        for k in range(1, num_classes):\n",
        "            zero_gradients(x)\n",
        "\n",
        "            fs[0, I[k]].backward(retain_graph=True)\n",
        "            cur_grad = x.grad.data.cpu().numpy().copy()\n",
        "\n",
        "            # set new w_k and new f_k\n",
        "            w_k = cur_grad - grad_orig\n",
        "            f_k = (fs[0, I[k]] - fs[0, I[0]]).data.cpu().numpy()\n",
        "\n",
        "            pert_k = abs(f_k)/np.linalg.norm(w_k.flatten())\n",
        "\n",
        "            # determine which w_k to use\n",
        "            if pert_k < pert:\n",
        "                pert = pert_k\n",
        "                w = w_k\n",
        "\n",
        "        # compute r_i and r_tot\n",
        "        # Added 1e-4 for numerical stability\n",
        "        r_i =  (pert+1e-4) * w / np.linalg.norm(w)\n",
        "        r_tot = np.float32(r_tot + r_i)\n",
        "\n",
        "        if is_cuda:\n",
        "            pert_image = image + (1+overshoot)*torch.from_numpy(r_tot).cuda()\n",
        "        else:\n",
        "            pert_image = image + (1+overshoot)*torch.from_numpy(r_tot)\n",
        "\n",
        "        x = Variable(pert_image, requires_grad=True)\n",
        "       # print(image.shape)\n",
        "       # print(x.view(1,1,image.shape[0],-1).shape)\n",
        "        fs = net.forward(x.view(1,1,image.shape[1],-1))\n",
        "        k_i = np.argmax(fs.data.cpu().numpy().flatten())\n",
        "\n",
        "        loop_i += 1\n",
        "\n",
        "    return (1+overshoot)*r_tot, loop_i, label, k_i, pert_image\n",
        "def fgsm_attack(input,epsilon,data_grad):\n",
        "  pert_out = input + epsilon*data_grad.sign()\n",
        "  pert_out = torch.clamp(pert_out, 0, 1)\n",
        "  return pert_out\n",
        "\n",
        "def ifgsm_attack(input,epsilon,data_grad):\n",
        "  iter = 10\n",
        "  alpha = epsilon/iter\n",
        "  pert_out = input\n",
        "  for i in range(iter-1):\n",
        "    pert_out = pert_out + alpha*data_grad.sign()\n",
        "    pert_out = torch.clamp(pert_out, 0, 1)\n",
        "    if torch.norm((pert_out-input),p=float('inf')) > epsilon:\n",
        "      break\n",
        "  return pert_out\n",
        "\n",
        "def mifgsm_attack(input,epsilon,data_grad):\n",
        "  iter=10\n",
        "  decay_factor=1.0\n",
        "  pert_out = input\n",
        "  alpha = epsilon/iter\n",
        "  g=0\n",
        "  for i in range(iter-1):\n",
        "    g = decay_factor*g + data_grad/torch.norm(data_grad,p=1)\n",
        "    pert_out = pert_out + alpha*torch.sign(g)\n",
        "    pert_out = torch.clamp(pert_out, 0, 1)\n",
        "    if torch.norm((pert_out-input),p=float('inf')) > epsilon:\n",
        "      break\n",
        "  return pert_out"
      ],
      "execution_count": 12,
      "outputs": []
    },
    {
      "cell_type": "code",
      "metadata": {
        "id": "j1wEKDumo2wC"
      },
      "source": [
        "def JacobianMatrix(model,input):\n",
        "  print(\"Input size \",input.shape)\n",
        "  number_of_piels=input.shape[0]*input.shape[1]\n",
        "  J = torch.zeros ((1, 784, 10))   # loop will fill in Jacobian\n",
        "  input.requires_grad = True\n",
        "  preds = model (input)\n",
        "  for  i in range (10):\n",
        "      grd = torch.zeros ((1, 10))   # same shape as preds\n",
        "      grd[0, i] = 1    # column of Jacobian to compute\n",
        "      preds.backward (gradient = grd, retain_graph = True)\n",
        "      J[:,:,i] = input.grad   # fill in one column of Jacobian\n",
        "      input.grad.zero_()   # .backward() accumulates gradients, so reset to zero\n",
        "def JSM_attack(model, input):\n",
        "  input.requires_grad=True"
      ],
      "execution_count": null,
      "outputs": []
    },
    {
      "cell_type": "code",
      "metadata": {
        "pycharm": {
          "name": "#%%\n"
        },
        "id": "ySq2vSmOJxS7"
      },
      "source": [
        "activation_in = {}\n",
        "activation_out={}\n",
        "def get_activation_input(name):\n",
        "    def hook(model, input, output):\n",
        "        activation_in[name] = input[0]\n",
        "    return hook\n",
        "def get_activation_output(name):\n",
        "    def hook(model, input, output):\n",
        "        activation_out[name] = output.clone().detach()\n",
        "    return hook\n",
        "def nth_derivative(f, wrt, n):\n",
        "\n",
        "    for i in range(n):\n",
        "\n",
        "        grads = torch.autograd.grad(f, wrt, create_graph=True)[0]\n",
        "        f = grads.sum()\n",
        "\n",
        "    return grads\n",
        "def get_higher_gradients(model,input,label, rank=3):\n",
        "  grads=[]\n",
        "  optimizer.zero_grad()\n",
        "  input.requires_grad=True\n",
        "  outs=model(input)\n",
        "  pred=torch.zeros(num_classes)\n",
        "  pred[label.item()]=1\n",
        "  l=criterion(outs,label)\n",
        "  aux=torch.autograd.grad(l,input,retain_graph=True,create_graph=True)[0]\n",
        "  grads.append(aux.reshape(1,-1))\n",
        "  for r in range(2,rank+1):\n",
        "    aux=torch.autograd.grad(aux.sum(),input,create_graph=True)[0]\n",
        "    grads.append(aux.reshape(1,-1))\n",
        "  return grads\n",
        "def check_taylor_prediction(model,input,marker_images,check_label):\n",
        "  plt.imshow(input.squeeze().detach().cpu().numpy())\n",
        "  # grads=get_higher_gradients(model,input,true_label)\n",
        "\n",
        "  # grads=get_higher_gradients(model,input,perturbed_label)\n",
        "  # layer_grads=get_layer_gradients(model,input,check_label,\"conv2\")\n",
        "\n",
        "  # input=input.reshape(-1,1)\n",
        "  # # marker_image=marker_images[:,:,true_label.item()].reshape(-1,1)\n",
        "  # # marker_image=torch.tensor(marker_image,dtype=torch.float32)\n",
        "  # # total=1.+torch.mm(grads[0],(input-marker_image))+torch.mm(grads[1],torch.pow((input-marker_image),2))/2\n",
        "  # # total=1.+torch.mm(grads[0],(input-marker_image))+torch.mm(grads[1],torch.pow((input-marker_image),2))/2\n",
        "  # marker_image1=marker_images[:,:,perturbed_label.item()].reshape(-1,1)\n",
        "  # marker_image1=torch.tensor(marker_image1,dtype=torch.float32)\n",
        "  # total1=torch.mm(layer_grads[0],(input-marker_image1))+torch.mm(layer_grads[1],torch.pow((input-marker_image1),2))/2\n",
        "  total=compute_layer_taylor(model,input,check_label,\"conv2\",marker_images)\n",
        "  return total\n",
        "def compute_layer_taylor(model,input,label,l_name,marker_images):\n",
        "  grads,input_marker=get_layer_gradients(model,marker_images[:,:,label],label,l_name)\n",
        "  optimizer.zero_grad()\n",
        "  input_marker=input_marker.view(-1,1)\n",
        "  # print(input.shape)\n",
        "  # input.requires_grad=True\n",
        "  outs=model(input)\n",
        "  input_layer=activation_in[l_name].view(-1,1)\n",
        "  total=torch.mm(grads[0],(input_layer-input_marker))+torch.mm(grads[1],torch.pow((input_layer-input_marker),2))/2\n",
        "  return total.item()\n",
        "\n",
        "def get_layer_gradients(model,input,label,l_name, rank=3):\n",
        "  grads=[]\n",
        "  optimizer.zero_grad()\n",
        "  marker_input=torch.tensor(input,dtype=torch.float32).unsqueeze(0).unsqueeze(0)\n",
        "  # marker_input.requires_grad=True\n",
        "  outs=model(marker_input)\n",
        "  pred=torch.zeros(num_classes)\n",
        "  pred[label.item()]=1\n",
        "  l=criterion(outs,label)\n",
        "  layer_input_data=activation_in[l_name]\n",
        "  # layer_input_data.requires_grad=True\n",
        "  aux=torch.autograd.grad(l,layer_input_data,retain_graph=True,create_graph=True)[0]\n",
        "  grads.append(aux.reshape(1,-1))\n",
        "  for r in range(2,rank+1):\n",
        "    aux=torch.autograd.grad(aux.sum(),layer_input_data,create_graph=True)[0]\n",
        "    grads.append(aux.reshape(1,-1))\n",
        "  return grads,layer_input_data\n"
      ],
      "execution_count": null,
      "outputs": []
    },
    {
      "cell_type": "code",
      "metadata": {
        "pycharm": {
          "name": "#%%\n"
        },
        "id": "rd_DwkIrJxS-"
      },
      "source": [
        "filename = './model_MNIST_cpu.mf'\n",
        "model= pickle.load(open(filename, 'rb'))\n",
        "filename = './scores.mf'\n",
        "\n",
        "best_fits=pickle.load(open(filename,'rb'))"
      ],
      "execution_count": null,
      "outputs": []
    },
    {
      "cell_type": "code",
      "metadata": {
        "id": "h3al_hO_mqKn",
        "pycharm": {
          "name": "#%%\n"
        }
      },
      "source": [
        "\n",
        "\n",
        "def testModel(model,criterion,device,test_loader,attack):\n",
        "  count=0\n",
        "  totals=0\n",
        "  fooled=0\n",
        "  for data,labels in test_loader:\n",
        "    data,labels=data.to(device),labels.to(device)\n",
        "    data.requires_grad=True\n",
        "    outs=model(data)\n",
        "    true_preds=torch.argmax(outs,dim=1)\n",
        "    if true_preds!=labels:\n",
        "      continue\n",
        "    epsilon=0.1\n",
        "    true_loss=criterion(outs,labels)\n",
        "    true_loss.backward()\n",
        "    data_grad=data.grad.data\n",
        "    if attack == \"fgsm\":\n",
        "      perturbed_data = fgsm_attack(data,epsilon,data_grad)\n",
        "    elif attack == \"ifgsm\":\n",
        "      perturbed_data = ifgsm_attack(data,epsilon,data_grad)\n",
        "    elif attack == \"mifgsm\":\n",
        "      perturbed_data = mifgsm_attack(data,epsilon,data_grad)\n",
        "    elif attack == \"jacobian\":\n",
        "      print(\"Implement the jacobian\")\n",
        "    p_out=model(perturbed_data)\n",
        "    perturb_label=torch.argmax(p_out,dim=1)\n",
        "    # print(perturb_label.item())\n",
        "\n",
        "    if perturb_label!=labels:\n",
        "      totals+=1\n",
        "      # print(\"Trying to determine for the true class:\",labels.item(),\" which was labeled as:\",perturb_label.item())\n",
        "      x=range(0,num_classes)\n",
        "      x=[check_taylor_prediction(model,perturbed_data,best_fits['b_p'],torch.tensor(lab).reshape(1)) for lab in x ]\n",
        "      winner=np.argmax(x)\n",
        "      if winner == true_preds.item():\n",
        "        fooled+=1\n",
        "      if winner == labels.item():\n",
        "        count+=1\n",
        "      # r=check_taylor_prediction(model,data,best_fits['b_p'],perturb_label)\n",
        "      print(\"Total of :\",count/totals)\n",
        "      print(\"Fooled :\",fooled/totals)\n",
        "# conv2\n",
        "model.conv2.register_forward_hook(get_activation_input('conv2'))\n",
        "\n",
        "# model.conv2.register_forward_hook(get_activation_output('conv2'))\n",
        "testModel(model,criterion,'cpu',test_loader,\"ifgsm\")\n",
        "\n",
        "\n"
      ],
      "execution_count": null,
      "outputs": []
    },
    {
      "cell_type": "code",
      "metadata": {
        "pycharm": {
          "name": "#%%\n"
        },
        "id": "6_U32AoPJxTC"
      },
      "source": [
        ""
      ],
      "execution_count": null,
      "outputs": []
    }
  ]
}